{
 "cells": [
  {
   "cell_type": "markdown",
   "metadata": {},
   "source": [
    "## Setup"
   ]
  },
  {
   "cell_type": "markdown",
   "metadata": {},
   "source": [
    "### Imports"
   ]
  },
  {
   "cell_type": "code",
   "execution_count": null,
   "metadata": {},
   "outputs": [],
   "source": [
    "import os\n",
    "import shutil"
   ]
  },
  {
   "cell_type": "markdown",
   "metadata": {},
   "source": [
    "### Update demo directories"
   ]
  },
  {
   "cell_type": "code",
   "execution_count": null,
   "metadata": {},
   "outputs": [],
   "source": [
    "# ASTRA-sim \n",
    "astra_sim_dir = '/home/jinsun/jinsun-astra-sim/astra-sim' # Location of the astra-sim directory\n",
    "os.chdir(astra_sim_dir)\n",
    "os.system('git checkout collectiveapi')\n",
    "\n",
    "# Chakra to run workload\n",
    "chakra_dir = astra_sim_dir + '/extern/graph_frontend/chakra'\n",
    "os.chdir(chakra_dir) # Cloned from the main chakra repo\n",
    "os.system('git checkout 7a5faa') # Default submodule commit as of 2024-Jun-05\n",
    "os.system('sed -i \\'s/this->is_cpu_op_ = true;/this->is_cpu_op_ = false;/\\' et_feeder/et_feeder_node.cpp') # Hotfix\n",
    "\n",
    "# Chakra for msccl converter\n",
    "converter_dir = '/home/jinsun/chakra/'\n",
    "os.chdir(converter_dir) # Cloned from https://github.com/jinsun-yoo/chakra, NOT the main chakra repo\n",
    "os.system('git checkout mscclang_converter')\n",
    "\n",
    "# MSCCLang directory\n",
    "mscclang_dir = '/home/jinsun/msccl-tools/examples/mscclang'\n",
    "\n",
    "# Scratchpad directory for intermediate outputs\n",
    "demodir = astra_sim_dir + '/demo'\n",
    "if not os.path.exists(demodir): \n",
    "    os.mkdir(demodir)"
   ]
  },
  {
   "cell_type": "markdown",
   "metadata": {},
   "source": [
    "### Build binaries"
   ]
  },
  {
   "cell_type": "code",
   "execution_count": null,
   "metadata": {},
   "outputs": [],
   "source": [
    "os.chdir(astra_sim_dir)\n",
    "os.system('bash build/astra_analytical/build.sh -l')\n",
    "os.system('bash build/astra_analytical/build.sh')"
   ]
  },
  {
   "cell_type": "markdown",
   "metadata": {},
   "source": [
    "### Workload Generation"
   ]
  },
  {
   "cell_type": "code",
   "execution_count": null,
   "metadata": {},
   "outputs": [],
   "source": [
    "os.chdir(chakra_dir)\n",
    "os.system('rm *.et')\n",
    "os.system('python3 -m utils.et_generator.et_generator --num_npus 64 --num_dims 1 --default_comm_size 16384')"
   ]
  },
  {
   "cell_type": "markdown",
   "metadata": {},
   "source": [
    "## Collective Impl Generation"
   ]
  },
  {
   "cell_type": "markdown",
   "metadata": {},
   "source": [
    "### MSCCLang -> XML"
   ]
  },
  {
   "cell_type": "code",
   "execution_count": null,
   "metadata": {},
   "outputs": [],
   "source": [
    "os.chdir(mscclang_dir)\n",
    "os.system(f'python3 allreduce_a100_ring.py 64 1 1 > {demodir}/demo_allreduce.xml')"
   ]
  },
  {
   "cell_type": "markdown",
   "metadata": {},
   "source": [
    "### XML -> Chakra"
   ]
  },
  {
   "cell_type": "code",
   "execution_count": null,
   "metadata": {},
   "outputs": [],
   "source": [
    "os.chdir(demodir)\n",
    "os.system('rm *.et')\n",
    "\n",
    "os.chdir(converter_dir)\n",
    "collective_size = int(16 * 1024) # 16 Kilobytes\n",
    "os.system(f'python3 -m et_converter.et_converter \\\n",
    "        --input_type        msccl \\\n",
    "        --input_filename    {demodir}/demo_allreduce.xml \\\n",
    "        --output_filename   {demodir}/allreduce \\\n",
    "        --num_dims          1 \\\n",
    "        --coll_size         {collective_size}')"
   ]
  },
  {
   "cell_type": "markdown",
   "metadata": {},
   "source": [
    "## Running Stuff"
   ]
  },
  {
   "cell_type": "markdown",
   "metadata": {},
   "source": [
    "### AllReduce using traditional Ring Impl"
   ]
  },
  {
   "cell_type": "code",
   "execution_count": null,
   "metadata": {},
   "outputs": [],
   "source": [
    "os.chdir(astra_sim_dir)\n",
    "\n",
    "# Common Config\n",
    "SYSTEM_CONFIG=\"./inputs/system/Ring.json\"\n",
    "MEMORY_CONFIG=\"./inputs/remote_memory/analytical/no_memory_expansion.json\"\n",
    "WORKLOAD_CONFIG=\"./extern/graph_frontend/chakra/one_comm_coll_node_allreduce\"\n",
    "NETWORK_CONFIG=\"./inputs/network/analytical/Ring.yml\"\n",
    "\n",
    "# Run\n",
    "os.system(f'{astra_sim_dir}/build/astra_analytical/build/bin/AstraSim_Analytical_Congestion_Unaware \\\n",
    "    --workload-configuration={WORKLOAD_CONFIG} \\\n",
    "    --system-configuration={SYSTEM_CONFIG} \\\n",
    "    --network-configuration={NETWORK_CONFIG} \\\n",
    "    --remote-memory-configuration={MEMORY_CONFIG}')\n"
   ]
  },
  {
   "cell_type": "markdown",
   "metadata": {},
   "source": [
    "### Using Chakra Impl as the \"Workload\" Input"
   ]
  },
  {
   "cell_type": "code",
   "execution_count": null,
   "metadata": {},
   "outputs": [],
   "source": [
    "os.chdir(astra_sim_dir)\n",
    "\n",
    "# Common Config\n",
    "SYSTEM_CONFIG=\"./inputs/system/Ring.json\"\n",
    "MEMORY_CONFIG=\"./inputs/remote_memory/analytical/no_memory_expansion.json\"\n",
    "WORKLOAD_CONFIG=f\"./demo/allreduce\"\n",
    "NETWORK_CONFIG=\"./inputs/network/analytical/Ring.yml\"\n",
    "      # Run\n",
    "os.system(f'{astra_sim_dir}/build/astra_analytical/build/bin/AstraSim_Analytical_Congestion_Unaware \\\n",
    "    --workload-configuration={WORKLOAD_CONFIG} \\\n",
    "    --system-configuration={SYSTEM_CONFIG} \\\n",
    "    --network-configuration={NETWORK_CONFIG} \\\n",
    "    --remote-memory-configuration={MEMORY_CONFIG}')\n"
   ]
  },
  {
   "cell_type": "markdown",
   "metadata": {},
   "source": [
    "### Using both Workload input & Comm API Input"
   ]
  },
  {
   "cell_type": "code",
   "execution_count": null,
   "metadata": {},
   "outputs": [],
   "source": [
    "os.chdir(astra_sim_dir)\n",
    "\n",
    "# Common Config\n",
    "SYSTEM_CONFIG=\"./inputs/system/ChakraImpl.json\"\n",
    "MEMORY_CONFIG=\"./inputs/remote_memory/analytical/no_memory_expansion.json\"\n",
    "WORKLOAD_CONFIG=\"./extern/graph_frontend/chakra/one_comm_coll_node_allreduce\"\n",
    "NETWORK_CONFIG=\"./inputs/network/analytical/Ring.yml\"\n",
    "\n",
    "os.system(f'{astra_sim_dir}/build/astra_analytical/build/bin/AstraSim_Analytical_Congestion_Unaware \\\n",
    "    --workload-configuration={WORKLOAD_CONFIG} \\\n",
    "    --system-configuration={SYSTEM_CONFIG} \\\n",
    "    --network-configuration={NETWORK_CONFIG} \\\n",
    "    --remote-memory-configuration={MEMORY_CONFIG}')\n"
   ]
  }
 ],
 "metadata": {
  "kernelspec": {
   "display_name": "projectname",
   "language": "python",
   "name": "projectname"
  },
  "language_info": {
   "codemirror_mode": {
    "name": "ipython",
    "version": 3
   },
   "file_extension": ".py",
   "mimetype": "text/x-python",
   "name": "python",
   "nbconvert_exporter": "python",
   "pygments_lexer": "ipython3",
   "version": "3.8.10"
  }
 },
 "nbformat": 4,
 "nbformat_minor": 4
}
